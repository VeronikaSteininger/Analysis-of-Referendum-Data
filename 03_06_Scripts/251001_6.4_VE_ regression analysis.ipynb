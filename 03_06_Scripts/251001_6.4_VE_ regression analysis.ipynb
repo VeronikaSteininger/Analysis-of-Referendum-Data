{
 "cells": [
  {
   "cell_type": "markdown",
   "id": "0b0a573a-61cd-4358-a07e-d967d2ed462a",
   "metadata": {},
   "source": [
    "# Import libraries and data"
   ]
  },
  {
   "cell_type": "code",
   "execution_count": 2,
   "id": "bb7646a6-d3ac-4924-a0f7-4ee3621b1bbd",
   "metadata": {},
   "outputs": [],
   "source": [
    "import pandas as pd\n",
    "import numpy as np\n",
    "import seaborn as sns\n",
    "import matplotlib\n",
    "import matplotlib.pyplot as plt\n",
    "import os\n",
    "import sklearn\n",
    "from sklearn.model_selection import train_test_split \n",
    "from sklearn.linear_model import LinearRegression\n",
    "from sklearn.metrics import mean_squared_error, r2_score"
   ]
  },
  {
   "cell_type": "code",
   "execution_count": 3,
   "id": "a21dbeb2-e0de-4a2d-b789-a3c4bef51586",
   "metadata": {},
   "outputs": [],
   "source": [
    "# defining path\n",
    "path=r'/Users/ru/Desktop/CF/06_Achievement 6_VE'"
   ]
  },
  {
   "cell_type": "code",
   "execution_count": 7,
   "id": "c8c14387-8519-4b80-9b43-e142553c37c6",
   "metadata": {},
   "outputs": [],
   "source": [
    "# import data\n",
    "df_ve = pd.read_pickle(os.path.join(path,'02_06_Data','2.2_06_Prepared Data',\n",
    "                                 'df_ve_clean_y_n.pkl'))"
   ]
  },
  {
   "cell_type": "code",
   "execution_count": 8,
   "id": "4927b25c-cc14-41d0-a939-4b9b6495e87a",
   "metadata": {},
   "outputs": [
    {
     "data": {
      "text/html": [
       "<div>\n",
       "<style scoped>\n",
       "    .dataframe tbody tr th:only-of-type {\n",
       "        vertical-align: middle;\n",
       "    }\n",
       "\n",
       "    .dataframe tbody tr th {\n",
       "        vertical-align: top;\n",
       "    }\n",
       "\n",
       "    .dataframe thead th {\n",
       "        text-align: right;\n",
       "    }\n",
       "</style>\n",
       "<table border=\"1\" class=\"dataframe\">\n",
       "  <thead>\n",
       "    <tr style=\"text-align: right;\">\n",
       "      <th></th>\n",
       "      <th>Unnamed: 0</th>\n",
       "      <th>Stimmart</th>\n",
       "      <th>Adresse</th>\n",
       "      <th>BezNr</th>\n",
       "      <th>BezNa</th>\n",
       "      <th>WahlBez</th>\n",
       "      <th>WahlBezArt</th>\n",
       "      <th>BWB</th>\n",
       "      <th>AGHWK</th>\n",
       "      <th>BTWK</th>\n",
       "      <th>...</th>\n",
       "      <th>Stimmber A2</th>\n",
       "      <th>Stimmber A3</th>\n",
       "      <th>TeilN</th>\n",
       "      <th>TeilN B1</th>\n",
       "      <th>Unglt Stimme</th>\n",
       "      <th>Glt Stimme</th>\n",
       "      <th>Stimme Ja</th>\n",
       "      <th>Stimme  Nein</th>\n",
       "      <th>Unnamed: 20</th>\n",
       "      <th>Ergebnis</th>\n",
       "    </tr>\n",
       "  </thead>\n",
       "  <tbody>\n",
       "    <tr>\n",
       "      <th>0</th>\n",
       "      <td>0</td>\n",
       "      <td>Stimme</td>\n",
       "      <td>01W100</td>\n",
       "      <td>1</td>\n",
       "      <td>Mitte</td>\n",
       "      <td>100</td>\n",
       "      <td>W</td>\n",
       "      <td>011A</td>\n",
       "      <td>1</td>\n",
       "      <td>75</td>\n",
       "      <td>...</td>\n",
       "      <td>741</td>\n",
       "      <td>0</td>\n",
       "      <td>519</td>\n",
       "      <td>12</td>\n",
       "      <td>11</td>\n",
       "      <td>508</td>\n",
       "      <td>299</td>\n",
       "      <td>209</td>\n",
       "      <td>NaN</td>\n",
       "      <td>yes</td>\n",
       "    </tr>\n",
       "    <tr>\n",
       "      <th>1</th>\n",
       "      <td>1</td>\n",
       "      <td>Stimme</td>\n",
       "      <td>01W101</td>\n",
       "      <td>1</td>\n",
       "      <td>Mitte</td>\n",
       "      <td>101</td>\n",
       "      <td>W</td>\n",
       "      <td>011B</td>\n",
       "      <td>1</td>\n",
       "      <td>75</td>\n",
       "      <td>...</td>\n",
       "      <td>490</td>\n",
       "      <td>0</td>\n",
       "      <td>366</td>\n",
       "      <td>10</td>\n",
       "      <td>6</td>\n",
       "      <td>360</td>\n",
       "      <td>182</td>\n",
       "      <td>178</td>\n",
       "      <td>NaN</td>\n",
       "      <td>yes</td>\n",
       "    </tr>\n",
       "    <tr>\n",
       "      <th>2</th>\n",
       "      <td>2</td>\n",
       "      <td>Stimme</td>\n",
       "      <td>01W102</td>\n",
       "      <td>1</td>\n",
       "      <td>Mitte</td>\n",
       "      <td>102</td>\n",
       "      <td>W</td>\n",
       "      <td>011B</td>\n",
       "      <td>1</td>\n",
       "      <td>75</td>\n",
       "      <td>...</td>\n",
       "      <td>692</td>\n",
       "      <td>0</td>\n",
       "      <td>406</td>\n",
       "      <td>10</td>\n",
       "      <td>8</td>\n",
       "      <td>398</td>\n",
       "      <td>217</td>\n",
       "      <td>181</td>\n",
       "      <td>NaN</td>\n",
       "      <td>yes</td>\n",
       "    </tr>\n",
       "    <tr>\n",
       "      <th>3</th>\n",
       "      <td>3</td>\n",
       "      <td>Stimme</td>\n",
       "      <td>01W103</td>\n",
       "      <td>1</td>\n",
       "      <td>Mitte</td>\n",
       "      <td>103</td>\n",
       "      <td>W</td>\n",
       "      <td>011C</td>\n",
       "      <td>1</td>\n",
       "      <td>75</td>\n",
       "      <td>...</td>\n",
       "      <td>569</td>\n",
       "      <td>0</td>\n",
       "      <td>329</td>\n",
       "      <td>10</td>\n",
       "      <td>9</td>\n",
       "      <td>320</td>\n",
       "      <td>159</td>\n",
       "      <td>161</td>\n",
       "      <td>NaN</td>\n",
       "      <td>no</td>\n",
       "    </tr>\n",
       "    <tr>\n",
       "      <th>4</th>\n",
       "      <td>4</td>\n",
       "      <td>Stimme</td>\n",
       "      <td>01W104</td>\n",
       "      <td>1</td>\n",
       "      <td>Mitte</td>\n",
       "      <td>104</td>\n",
       "      <td>W</td>\n",
       "      <td>011D</td>\n",
       "      <td>1</td>\n",
       "      <td>75</td>\n",
       "      <td>...</td>\n",
       "      <td>639</td>\n",
       "      <td>0</td>\n",
       "      <td>522</td>\n",
       "      <td>17</td>\n",
       "      <td>10</td>\n",
       "      <td>512</td>\n",
       "      <td>263</td>\n",
       "      <td>249</td>\n",
       "      <td>NaN</td>\n",
       "      <td>yes</td>\n",
       "    </tr>\n",
       "  </tbody>\n",
       "</table>\n",
       "<p>5 rows × 23 columns</p>\n",
       "</div>"
      ],
      "text/plain": [
       "   Unnamed: 0 Stimmart Adresse  BezNr  BezNa WahlBez WahlBezArt   BWB  AGHWK  \\\n",
       "0           0   Stimme  01W100      1  Mitte     100          W  011A      1   \n",
       "1           1   Stimme  01W101      1  Mitte     101          W  011B      1   \n",
       "2           2   Stimme  01W102      1  Mitte     102          W  011B      1   \n",
       "3           3   Stimme  01W103      1  Mitte     103          W  011C      1   \n",
       "4           4   Stimme  01W104      1  Mitte     104          W  011D      1   \n",
       "\n",
       "   BTWK  ... Stimmber A2  Stimmber A3  TeilN  TeilN B1  Unglt Stimme  \\\n",
       "0    75  ...         741            0    519        12            11   \n",
       "1    75  ...         490            0    366        10             6   \n",
       "2    75  ...         692            0    406        10             8   \n",
       "3    75  ...         569            0    329        10             9   \n",
       "4    75  ...         639            0    522        17            10   \n",
       "\n",
       "   Glt Stimme  Stimme Ja  Stimme  Nein  Unnamed: 20  Ergebnis  \n",
       "0         508        299           209          NaN       yes  \n",
       "1         360        182           178          NaN       yes  \n",
       "2         398        217           181          NaN       yes  \n",
       "3         320        159           161          NaN        no  \n",
       "4         512        263           249          NaN       yes  \n",
       "\n",
       "[5 rows x 23 columns]"
      ]
     },
     "execution_count": 8,
     "metadata": {},
     "output_type": "execute_result"
    }
   ],
   "source": [
    "df_ve.head()\n"
   ]
  },
  {
   "cell_type": "markdown",
   "id": "3097d25e-eb26-4a25-9659-697395037e3c",
   "metadata": {},
   "source": [
    "# check and clean for purpose"
   ]
  },
  {
   "cell_type": "code",
   "execution_count": 9,
   "id": "9f56d82a-9ea2-4cab-ac91-5581df435ac1",
   "metadata": {},
   "outputs": [
    {
     "data": {
      "text/plain": [
       "(3764, 23)"
      ]
     },
     "execution_count": 9,
     "metadata": {},
     "output_type": "execute_result"
    }
   ],
   "source": [
    "df_ve.shape"
   ]
  },
  {
   "cell_type": "code",
   "execution_count": 10,
   "id": "da8cd1fa-0004-4500-9ff1-b1395b6e3ac0",
   "metadata": {},
   "outputs": [
    {
     "data": {
      "text/plain": [
       "Index(['Unnamed: 0', 'Stimmart', 'Adresse', 'BezNr', 'BezNa', 'WahlBez',\n",
       "       'WahlBezArt', 'BWB', 'AGHWK', 'BTWK', 'OstWest', 'Stimmber  total',\n",
       "       'Stimmber A1', 'Stimmber A2', 'Stimmber A3', 'TeilN', 'TeilN B1',\n",
       "       'Unglt Stimme', 'Glt Stimme', 'Stimme Ja', 'Stimme  Nein',\n",
       "       'Unnamed: 20', 'Ergebnis'],\n",
       "      dtype='object')"
      ]
     },
     "execution_count": 10,
     "metadata": {},
     "output_type": "execute_result"
    }
   ],
   "source": [
    "df_ve.columns"
   ]
  },
  {
   "cell_type": "code",
   "execution_count": null,
   "id": "dd7c8c1a-e2f4-4a1f-8db9-ed7a9bd3639e",
   "metadata": {},
   "outputs": [],
   "source": [
    "#check basic statistics of the relevant variables\n",
    "# Valdid votes"
   ]
  },
  {
   "cell_type": "code",
   "execution_count": 11,
   "id": "31fd8088-1d99-4b69-98b4-20fc25087c3f",
   "metadata": {},
   "outputs": [
    {
     "data": {
      "text/plain": [
       "1288"
      ]
     },
     "execution_count": 11,
     "metadata": {},
     "output_type": "execute_result"
    }
   ],
   "source": [
    "df_ve['Glt Stimme'].max()"
   ]
  },
  {
   "cell_type": "code",
   "execution_count": 12,
   "id": "0200a594-ba18-448c-9710-9343e215ab48",
   "metadata": {},
   "outputs": [
    {
     "data": {
      "text/plain": [
       "0"
      ]
     },
     "execution_count": 12,
     "metadata": {},
     "output_type": "execute_result"
    }
   ],
   "source": [
    "df_ve['Glt Stimme'].min()"
   ]
  },
  {
   "cell_type": "code",
   "execution_count": 13,
   "id": "7e7ecae2-0d3d-4b93-8151-207901615b22",
   "metadata": {},
   "outputs": [
    {
     "data": {
      "text/plain": [
       "465.36875664187033"
      ]
     },
     "execution_count": 13,
     "metadata": {},
     "output_type": "execute_result"
    }
   ],
   "source": [
    "df_ve['Glt Stimme'].mean()"
   ]
  },
  {
   "cell_type": "code",
   "execution_count": 14,
   "id": "726680c2-b80c-431f-9f0b-c5e1a8e5bc14",
   "metadata": {},
   "outputs": [],
   "source": [
    "# the one polling station with 0 valid votes may add bias to the statistic. therefore it will be excludet here\n",
    "df_ve = df_ve[~(df_ve['Glt Stimme'] == 0)]"
   ]
  },
  {
   "cell_type": "code",
   "execution_count": 15,
   "id": "ddd5efa8-5ea2-437b-a23d-596be36d721b",
   "metadata": {
    "jupyter": {
     "source_hidden": true
    }
   },
   "outputs": [
    {
     "data": {
      "text/plain": [
       "76"
      ]
     },
     "execution_count": 15,
     "metadata": {},
     "output_type": "execute_result"
    }
   ],
   "source": [
    "df_ve['Glt Stimme'].min()"
   ]
  },
  {
   "cell_type": "code",
   "execution_count": null,
   "id": "06ffb949-bcc3-4986-a7c0-81ffa404a6ad",
   "metadata": {},
   "outputs": [],
   "source": [
    "# check of basic statistics yes votes"
   ]
  },
  {
   "cell_type": "code",
   "execution_count": 16,
   "id": "f3918489-ac9a-4409-abcd-1c3d7a15c3e9",
   "metadata": {},
   "outputs": [
    {
     "data": {
      "text/plain": [
       "821"
      ]
     },
     "execution_count": 16,
     "metadata": {},
     "output_type": "execute_result"
    }
   ],
   "source": [
    "df_ve['Stimme Ja'].max()"
   ]
  },
  {
   "cell_type": "code",
   "execution_count": 17,
   "id": "c73c08b8-3287-4636-bc0a-46f740b8b845",
   "metadata": {},
   "outputs": [
    {
     "data": {
      "text/plain": [
       "28"
      ]
     },
     "execution_count": 17,
     "metadata": {},
     "output_type": "execute_result"
    }
   ],
   "source": [
    "df_ve['Stimme Ja'].min()"
   ]
  },
  {
   "cell_type": "code",
   "execution_count": 18,
   "id": "a5267d35-c248-44f7-a249-ee800c03b85b",
   "metadata": {},
   "outputs": [
    {
     "data": {
      "text/plain": [
       "275.298963592878"
      ]
     },
     "execution_count": 18,
     "metadata": {},
     "output_type": "execute_result"
    }
   ],
   "source": [
    "df_ve['Stimme Ja'].mean()"
   ]
  },
  {
   "cell_type": "markdown",
   "id": "4870fe07-5037-4ad9-b889-9bea2f0fb56a",
   "metadata": {},
   "source": [
    "# prepare data for regression analysis"
   ]
  },
  {
   "cell_type": "code",
   "execution_count": 19,
   "id": "5ea4e420-c83f-4ab5-ac96-7d4fff6b2ceb",
   "metadata": {},
   "outputs": [
    {
     "data": {
      "image/png": "[encoded data removed]",
      "text/plain": [
       "<Figure size 640x480 with 1 Axes>"
      ]
     },
     "metadata": {},
     "output_type": "display_data"
    }
   ],
   "source": [
    "# Create a scatterplot using matplotlib for chosen varibles.\n",
    "\n",
    "df_ve.plot(x = 'Glt Stimme', y='Stimme Ja',style='o') \n",
    "plt.title('Valid votes vs Yes votes')  \n",
    "plt.xlabel('Valid Votes')  \n",
    "plt.ylabel('Yes Votes')  \n",
    "plt.show()"
   ]
  },
  {
   "cell_type": "code",
   "execution_count": 21,
   "id": "d44c73fa-8f07-405c-901c-e7a257e3d792",
   "metadata": {},
   "outputs": [],
   "source": [
    "# Reshape the variables into NumPy arrays and put them into separate objects.\n",
    "\n",
    "X = df_ve['Glt Stimme'].values.reshape(-1,1)\n",
    "y = df_ve['Stimme Ja'].values.reshape(-1,1)"
   ]
  },
  {
   "cell_type": "code",
   "execution_count": 22,
   "id": "52e79fb1-6363-449b-a6ce-ae221e3d90a4",
   "metadata": {},
   "outputs": [
    {
     "data": {
      "text/plain": [
       "array([[508],\n",
       "       [360],\n",
       "       [398],\n",
       "       ...,\n",
       "       [395],\n",
       "       [369],\n",
       "       [518]])"
      ]
     },
     "execution_count": 22,
     "metadata": {},
     "output_type": "execute_result"
    }
   ],
   "source": [
    "X"
   ]
  },
  {
   "cell_type": "code",
   "execution_count": 23,
   "id": "092922df-336b-4ef4-a842-ae75fdb6253a",
   "metadata": {},
   "outputs": [
    {
     "data": {
      "text/plain": [
       "array([[299],\n",
       "       [182],\n",
       "       [217],\n",
       "       ...,\n",
       "       [171],\n",
       "       [175],\n",
       "       [181]])"
      ]
     },
     "execution_count": 23,
     "metadata": {},
     "output_type": "execute_result"
    }
   ],
   "source": [
    "y"
   ]
  },
  {
   "cell_type": "code",
   "execution_count": 24,
   "id": "2bfb06ea-91fa-472e-abe7-efa4f4eb20e6",
   "metadata": {},
   "outputs": [],
   "source": [
    "# Split data into a training set and a test set.\n",
    "\n",
    "X_train, X_test, y_train, y_test = train_test_split(X, y, test_size=0.3, random_state=0)"
   ]
  },
  {
   "cell_type": "markdown",
   "id": "35b7a71b-c717-43c5-a726-23d67bab5849",
   "metadata": {},
   "source": [
    "# Regression Analysis"
   ]
  },
  {
   "cell_type": "code",
   "execution_count": 25,
   "id": "15ed3839-27a6-49f7-9e1e-cb22122d666c",
   "metadata": {},
   "outputs": [],
   "source": [
    "# Create a regression object.\n",
    "\n",
    "regression = LinearRegression()  # This is the regression object, which will be fit onto the training set."
   ]
  },
  {
   "cell_type": "code",
   "execution_count": 26,
   "id": "4338c76e-4e24-450d-bc0b-253da802f641",
   "metadata": {},
   "outputs": [
    {
     "data": {
      "text/html": [
       "<style>#sk-container-id-1 {\n",
       "  /* Definition of color scheme common for light and dark mode */\n",
       "  --sklearn-color-text: black;\n",
       "  --sklearn-color-line: gray;\n",
       "  /* Definition of color scheme for unfitted estimators */\n",
       "  --sklearn-color-unfitted-level-0: #fff5e6;\n",
       "  --sklearn-color-unfitted-level-1: #f6e4d2;\n",
       "  --sklearn-color-unfitted-level-2: #ffe0b3;\n",
       "  --sklearn-color-unfitted-level-3: chocolate;\n",
       "  /* Definition of color scheme for fitted estimators */\n",
       "  --sklearn-color-fitted-level-0: #f0f8ff;\n",
       "  --sklearn-color-fitted-level-1: #d4ebff;\n",
       "  --sklearn-color-fitted-level-2: #b3dbfd;\n",
       "  --sklearn-color-fitted-level-3: cornflowerblue;\n",
       "\n",
       "  /* Specific color for light theme */\n",
       "  --sklearn-color-text-on-default-background: var(--sg-text-color, var(--theme-code-foreground, var(--jp-content-font-color1, black)));\n",
       "  --sklearn-color-background: var(--sg-background-color, var(--theme-background, var(--jp-layout-color0, white)));\n",
       "  --sklearn-color-border-box: var(--sg-text-color, var(--theme-code-foreground, var(--jp-content-font-color1, black)));\n",
       "  --sklearn-color-icon: #696969;\n",
       "\n",
       "  @media (prefers-color-scheme: dark) {\n",
       "    /* Redefinition of color scheme for dark theme */\n",
       "    --sklearn-color-text-on-default-background: var(--sg-text-color, var(--theme-code-foreground, var(--jp-content-font-color1, white)));\n",
       "    --sklearn-color-background: var(--sg-background-color, var(--theme-background, var(--jp-layout-color0, #111)));\n",
       "    --sklearn-color-border-box: var(--sg-text-color, var(--theme-code-foreground, var(--jp-content-font-color1, white)));\n",
       "    --sklearn-color-icon: #878787;\n",
       "  }\n",
       "}\n",
       "\n",
       "#sk-container-id-1 {\n",
       "  color: var(--sklearn-color-text);\n",
       "}\n",
       "\n",
       "#sk-container-id-1 pre {\n",
       "  padding: 0;\n",
       "}\n",
       "\n",
       "#sk-container-id-1 input.sk-hidden--visually {\n",
       "  border: 0;\n",
       "  clip: rect(1px 1px 1px 1px);\n",
       "  clip: rect(1px, 1px, 1px, 1px);\n",
       "  height: 1px;\n",
       "  margin: -1px;\n",
       "  overflow: hidden;\n",
       "  padding: 0;\n",
       "  position: absolute;\n",
       "  width: 1px;\n",
       "}\n",
       "\n",
       "#sk-container-id-1 div.sk-dashed-wrapped {\n",
       "  border: 1px dashed var(--sklearn-color-line);\n",
       "  margin: 0 0.4em 0.5em 0.4em;\n",
       "  box-sizing: border-box;\n",
       "  padding-bottom: 0.4em;\n",
       "  background-color: var(--sklearn-color-background);\n",
       "}\n",
       "\n",
       "#sk-container-id-1 div.sk-container {\n",
       "  /* jupyter's `normalize.less` sets `[hidden] { display: none; }`\n",
       "     but bootstrap.min.css set `[hidden] { display: none !important; }`\n",
       "     so we also need the `!important` here to be able to override the\n",
       "     default hidden behavior on the sphinx rendered scikit-learn.org.\n",
       "     See: https://github.com/scikit-learn/scikit-learn/issues/21755 */\n",
       "  display: inline-block !important;\n",
       "  position: relative;\n",
       "}\n",
       "\n",
       "#sk-container-id-1 div.sk-text-repr-fallback {\n",
       "  display: none;\n",
       "}\n",
       "\n",
       "div.sk-parallel-item,\n",
       "div.sk-serial,\n",
       "div.sk-item {\n",
       "  /* draw centered vertical line to link estimators */\n",
       "  background-image: linear-gradient(var(--sklearn-color-text-on-default-background), var(--sklearn-color-text-on-default-background));\n",
       "  background-size: 2px 100%;\n",
       "  background-repeat: no-repeat;\n",
       "  background-position: center center;\n",
       "}\n",
       "\n",
       "/* Parallel-specific style estimator block */\n",
       "\n",
       "#sk-container-id-1 div.sk-parallel-item::after {\n",
       "  content: \"\";\n",
       "  width: 100%;\n",
       "  border-bottom: 2px solid var(--sklearn-color-text-on-default-background);\n",
       "  flex-grow: 1;\n",
       "}\n",
       "\n",
       "#sk-container-id-1 div.sk-parallel {\n",
       "  display: flex;\n",
       "  align-items: stretch;\n",
       "  justify-content: center;\n",
       "  background-color: var(--sklearn-color-background);\n",
       "  position: relative;\n",
       "}\n",
       "\n",
       "#sk-container-id-1 div.sk-parallel-item {\n",
       "  display: flex;\n",
       "  flex-direction: column;\n",
       "}\n",
       "\n",
       "#sk-container-id-1 div.sk-parallel-item:first-child::after {\n",
       "  align-self: flex-end;\n",
       "  width: 50%;\n",
       "}\n",
       "\n",
       "#sk-container-id-1 div.sk-parallel-item:last-child::after {\n",
       "  align-self: flex-start;\n",
       "  width: 50%;\n",
       "}\n",
       "\n",
       "#sk-container-id-1 div.sk-parallel-item:only-child::after {\n",
       "  width: 0;\n",
       "}\n",
       "\n",
       "/* Serial-specific style estimator block */\n",
       "\n",
       "#sk-container-id-1 div.sk-serial {\n",
       "  display: flex;\n",
       "  flex-direction: column;\n",
       "  align-items: center;\n",
       "  background-color: var(--sklearn-color-background);\n",
       "  padding-right: 1em;\n",
       "  padding-left: 1em;\n",
       "}\n",
       "\n",
       "\n",
       "/* Toggleable style: style used for estimator/Pipeline/ColumnTransformer box that is\n",
       "clickable and can be expanded/collapsed.\n",
       "- Pipeline and ColumnTransformer use this feature and define the default style\n",
       "- Estimators will overwrite some part of the style using the `sk-estimator` class\n",
       "*/\n",
       "\n",
       "/* Pipeline and ColumnTransformer style (default) */\n",
       "\n",
       "#sk-container-id-1 div.sk-toggleable {\n",
       "  /* Default theme specific background. It is overwritten whether we have a\n",
       "  specific estimator or a Pipeline/ColumnTransformer */\n",
       "  background-color: var(--sklearn-color-background);\n",
       "}\n",
       "\n",
       "/* Toggleable label */\n",
       "#sk-container-id-1 label.sk-toggleable__label {\n",
       "  cursor: pointer;\n",
       "  display: block;\n",
       "  width: 100%;\n",
       "  margin-bottom: 0;\n",
       "  padding: 0.5em;\n",
       "  box-sizing: border-box;\n",
       "  text-align: center;\n",
       "}\n",
       "\n",
       "#sk-container-id-1 label.sk-toggleable__label-arrow:before {\n",
       "  /* Arrow on the left of the label */\n",
       "  content: \"▸\";\n",
       "  float: left;\n",
       "  margin-right: 0.25em;\n",
       "  color: var(--sklearn-color-icon);\n",
       "}\n",
       "\n",
       "#sk-container-id-1 label.sk-toggleable__label-arrow:hover:before {\n",
       "  color: var(--sklearn-color-text);\n",
       "}\n",
       "\n",
       "/* Toggleable content - dropdown */\n",
       "\n",
       "#sk-container-id-1 div.sk-toggleable__content {\n",
       "  max-height: 0;\n",
       "  max-width: 0;\n",
       "  overflow: hidden;\n",
       "  text-align: left;\n",
       "  /* unfitted */\n",
       "  background-color: var(--sklearn-color-unfitted-level-0);\n",
       "}\n",
       "\n",
       "#sk-container-id-1 div.sk-toggleable__content.fitted {\n",
       "  /* fitted */\n",
       "  background-color: var(--sklearn-color-fitted-level-0);\n",
       "}\n",
       "\n",
       "#sk-container-id-1 div.sk-toggleable__content pre {\n",
       "  margin: 0.2em;\n",
       "  border-radius: 0.25em;\n",
       "  color: var(--sklearn-color-text);\n",
       "  /* unfitted */\n",
       "  background-color: var(--sklearn-color-unfitted-level-0);\n",
       "}\n",
       "\n",
       "#sk-container-id-1 div.sk-toggleable__content.fitted pre {\n",
       "  /* unfitted */\n",
       "  background-color: var(--sklearn-color-fitted-level-0);\n",
       "}\n",
       "\n",
       "#sk-container-id-1 input.sk-toggleable__control:checked~div.sk-toggleable__content {\n",
       "  /* Expand drop-down */\n",
       "  max-height: 200px;\n",
       "  max-width: 100%;\n",
       "  overflow: auto;\n",
       "}\n",
       "\n",
       "#sk-container-id-1 input.sk-toggleable__control:checked~label.sk-toggleable__label-arrow:before {\n",
       "  content: \"▾\";\n",
       "}\n",
       "\n",
       "/* Pipeline/ColumnTransformer-specific style */\n",
       "\n",
       "#sk-container-id-1 div.sk-label input.sk-toggleable__control:checked~label.sk-toggleable__label {\n",
       "  color: var(--sklearn-color-text);\n",
       "  background-color: var(--sklearn-color-unfitted-level-2);\n",
       "}\n",
       "\n",
       "#sk-container-id-1 div.sk-label.fitted input.sk-toggleable__control:checked~label.sk-toggleable__label {\n",
       "  background-color: var(--sklearn-color-fitted-level-2);\n",
       "}\n",
       "\n",
       "/* Estimator-specific style */\n",
       "\n",
       "/* Colorize estimator box */\n",
       "#sk-container-id-1 div.sk-estimator input.sk-toggleable__control:checked~label.sk-toggleable__label {\n",
       "  /* unfitted */\n",
       "  background-color: var(--sklearn-color-unfitted-level-2);\n",
       "}\n",
       "\n",
       "#sk-container-id-1 div.sk-estimator.fitted input.sk-toggleable__control:checked~label.sk-toggleable__label {\n",
       "  /* fitted */\n",
       "  background-color: var(--sklearn-color-fitted-level-2);\n",
       "}\n",
       "\n",
       "#sk-container-id-1 div.sk-label label.sk-toggleable__label,\n",
       "#sk-container-id-1 div.sk-label label {\n",
       "  /* The background is the default theme color */\n",
       "  color: var(--sklearn-color-text-on-default-background);\n",
       "}\n",
       "\n",
       "/* On hover, darken the color of the background */\n",
       "#sk-container-id-1 div.sk-label:hover label.sk-toggleable__label {\n",
       "  color: var(--sklearn-color-text);\n",
       "  background-color: var(--sklearn-color-unfitted-level-2);\n",
       "}\n",
       "\n",
       "/* Label box, darken color on hover, fitted */\n",
       "#sk-container-id-1 div.sk-label.fitted:hover label.sk-toggleable__label.fitted {\n",
       "  color: var(--sklearn-color-text);\n",
       "  background-color: var(--sklearn-color-fitted-level-2);\n",
       "}\n",
       "\n",
       "/* Estimator label */\n",
       "\n",
       "#sk-container-id-1 div.sk-label label {\n",
       "  font-family: monospace;\n",
       "  font-weight: bold;\n",
       "  display: inline-block;\n",
       "  line-height: 1.2em;\n",
       "}\n",
       "\n",
       "#sk-container-id-1 div.sk-label-container {\n",
       "  text-align: center;\n",
       "}\n",
       "\n",
       "/* Estimator-specific */\n",
       "#sk-container-id-1 div.sk-estimator {\n",
       "  font-family: monospace;\n",
       "  border: 1px dotted var(--sklearn-color-border-box);\n",
       "  border-radius: 0.25em;\n",
       "  box-sizing: border-box;\n",
       "  margin-bottom: 0.5em;\n",
       "  /* unfitted */\n",
       "  background-color: var(--sklearn-color-unfitted-level-0);\n",
       "}\n",
       "\n",
       "#sk-container-id-1 div.sk-estimator.fitted {\n",
       "  /* fitted */\n",
       "  background-color: var(--sklearn-color-fitted-level-0);\n",
       "}\n",
       "\n",
       "/* on hover */\n",
       "#sk-container-id-1 div.sk-estimator:hover {\n",
       "  /* unfitted */\n",
       "  background-color: var(--sklearn-color-unfitted-level-2);\n",
       "}\n",
       "\n",
       "#sk-container-id-1 div.sk-estimator.fitted:hover {\n",
       "  /* fitted */\n",
       "  background-color: var(--sklearn-color-fitted-level-2);\n",
       "}\n",
       "\n",
       "/* Specification for estimator info (e.g. \"i\" and \"?\") */\n",
       "\n",
       "/* Common style for \"i\" and \"?\" */\n",
       "\n",
       ".sk-estimator-doc-link,\n",
       "a:link.sk-estimator-doc-link,\n",
       "a:visited.sk-estimator-doc-link {\n",
       "  float: right;\n",
       "  font-size: smaller;\n",
       "  line-height: 1em;\n",
       "  font-family: monospace;\n",
       "  background-color: var(--sklearn-color-background);\n",
       "  border-radius: 1em;\n",
       "  height: 1em;\n",
       "  width: 1em;\n",
       "  text-decoration: none !important;\n",
       "  margin-left: 1ex;\n",
       "  /* unfitted */\n",
       "  border: var(--sklearn-color-unfitted-level-1) 1pt solid;\n",
       "  color: var(--sklearn-color-unfitted-level-1);\n",
       "}\n",
       "\n",
       ".sk-estimator-doc-link.fitted,\n",
       "a:link.sk-estimator-doc-link.fitted,\n",
       "a:visited.sk-estimator-doc-link.fitted {\n",
       "  /* fitted */\n",
       "  border: var(--sklearn-color-fitted-level-1) 1pt solid;\n",
       "  color: var(--sklearn-color-fitted-level-1);\n",
       "}\n",
       "\n",
       "/* On hover */\n",
       "div.sk-estimator:hover .sk-estimator-doc-link:hover,\n",
       ".sk-estimator-doc-link:hover,\n",
       "div.sk-label-container:hover .sk-estimator-doc-link:hover,\n",
       ".sk-estimator-doc-link:hover {\n",
       "  /* unfitted */\n",
       "  background-color: var(--sklearn-color-unfitted-level-3);\n",
       "  color: var(--sklearn-color-background);\n",
       "  text-decoration: none;\n",
       "}\n",
       "\n",
       "div.sk-estimator.fitted:hover .sk-estimator-doc-link.fitted:hover,\n",
       ".sk-estimator-doc-link.fitted:hover,\n",
       "div.sk-label-container:hover .sk-estimator-doc-link.fitted:hover,\n",
       ".sk-estimator-doc-link.fitted:hover {\n",
       "  /* fitted */\n",
       "  background-color: var(--sklearn-color-fitted-level-3);\n",
       "  color: var(--sklearn-color-background);\n",
       "  text-decoration: none;\n",
       "}\n",
       "\n",
       "/* Span, style for the box shown on hovering the info icon */\n",
       ".sk-estimator-doc-link span {\n",
       "  display: none;\n",
       "  z-index: 9999;\n",
       "  position: relative;\n",
       "  font-weight: normal;\n",
       "  right: .2ex;\n",
       "  padding: .5ex;\n",
       "  margin: .5ex;\n",
       "  width: min-content;\n",
       "  min-width: 20ex;\n",
       "  max-width: 50ex;\n",
       "  color: var(--sklearn-color-text);\n",
       "  box-shadow: 2pt 2pt 4pt #999;\n",
       "  /* unfitted */\n",
       "  background: var(--sklearn-color-unfitted-level-0);\n",
       "  border: .5pt solid var(--sklearn-color-unfitted-level-3);\n",
       "}\n",
       "\n",
       ".sk-estimator-doc-link.fitted span {\n",
       "  /* fitted */\n",
       "  background: var(--sklearn-color-fitted-level-0);\n",
       "  border: var(--sklearn-color-fitted-level-3);\n",
       "}\n",
       "\n",
       ".sk-estimator-doc-link:hover span {\n",
       "  display: block;\n",
       "}\n",
       "\n",
       "/* \"?\"-specific style due to the `<a>` HTML tag */\n",
       "\n",
       "#sk-container-id-1 a.estimator_doc_link {\n",
       "  float: right;\n",
       "  font-size: 1rem;\n",
       "  line-height: 1em;\n",
       "  font-family: monospace;\n",
       "  background-color: var(--sklearn-color-background);\n",
       "  border-radius: 1rem;\n",
       "  height: 1rem;\n",
       "  width: 1rem;\n",
       "  text-decoration: none;\n",
       "  /* unfitted */\n",
       "  color: var(--sklearn-color-unfitted-level-1);\n",
       "  border: var(--sklearn-color-unfitted-level-1) 1pt solid;\n",
       "}\n",
       "\n",
       "#sk-container-id-1 a.estimator_doc_link.fitted {\n",
       "  /* fitted */\n",
       "  border: var(--sklearn-color-fitted-level-1) 1pt solid;\n",
       "  color: var(--sklearn-color-fitted-level-1);\n",
       "}\n",
       "\n",
       "/* On hover */\n",
       "#sk-container-id-1 a.estimator_doc_link:hover {\n",
       "  /* unfitted */\n",
       "  background-color: var(--sklearn-color-unfitted-level-3);\n",
       "  color: var(--sklearn-color-background);\n",
       "  text-decoration: none;\n",
       "}\n",
       "\n",
       "#sk-container-id-1 a.estimator_doc_link.fitted:hover {\n",
       "  /* fitted */\n",
       "  background-color: var(--sklearn-color-fitted-level-3);\n",
       "}\n",
       "</style><div id=\"sk-container-id-1\" class=\"sk-top-container\"><div class=\"sk-text-repr-fallback\"><pre>LinearRegression()</pre><b>In a Jupyter environment, please rerun this cell to show the HTML representation or trust the notebook. <br />On GitHub, the HTML representation is unable to render, please try loading this page with nbviewer.org.</b></div><div class=\"sk-container\" hidden><div class=\"sk-item\"><div class=\"sk-estimator fitted sk-toggleable\"><input class=\"sk-toggleable__control sk-hidden--visually\" id=\"sk-estimator-id-1\" type=\"checkbox\" checked><label for=\"sk-estimator-id-1\" class=\"sk-toggleable__label fitted sk-toggleable__label-arrow fitted\">&nbsp;&nbsp;LinearRegression<a class=\"sk-estimator-doc-link fitted\" rel=\"noreferrer\" target=\"_blank\" href=\"https://scikit-learn.org/1.5/modules/generated/sklearn.linear_model.LinearRegression.html\">?<span>Documentation for LinearRegression</span></a><span class=\"sk-estimator-doc-link fitted\">i<span>Fitted</span></span></label><div class=\"sk-toggleable__content fitted\"><pre>LinearRegression()</pre></div> </div></div></div></div>"
      ],
      "text/plain": [
       "LinearRegression()"
      ]
     },
     "execution_count": 26,
     "metadata": {},
     "output_type": "execute_result"
    }
   ],
   "source": [
    "# Fit the regression object onto the training set.\n",
    "\n",
    "regression.fit(X_train, y_train)"
   ]
  },
  {
   "cell_type": "code",
   "execution_count": 27,
   "id": "65fc6421-558a-4b86-a631-eebabe5a6068",
   "metadata": {},
   "outputs": [],
   "source": [
    "# Predict the values of y using X.\n",
    "y_predicted = regression.predict(X_test)"
   ]
  },
  {
   "cell_type": "code",
   "execution_count": 28,
   "id": "1da78556-c579-44ff-8c92-f386f6111560",
   "metadata": {},
   "outputs": [
    {
     "data": {
      "image/png": "[encoded data removed]",
      "text/plain": [
       "<Figure size 640x480 with 1 Axes>"
      ]
     },
     "metadata": {},
     "output_type": "display_data"
    }
   ],
   "source": [
    "# Create a plot that shows the regression line from the model on the test set.\n",
    "\n",
    "plot_test = plt\n",
    "plot_test.scatter(X_test, y_test, color='gray', s = 15)\n",
    "plot_test.plot(X_test, y_predicted, color='red', linewidth =3)\n",
    "plot_test.title('Valid Votes vs Ves Votes (Test set)')\n",
    "plot_test.xlabel('Valid Votes')\n",
    "plot_test.ylabel('Yes Votes')\n",
    "plot_test.show()"
   ]
  },
  {
   "cell_type": "code",
   "execution_count": 29,
   "id": "dabab92d-053a-4d84-9c7e-3e95ac19490d",
   "metadata": {},
   "outputs": [],
   "source": [
    "# Create objects that contain the model summary statistics.\n",
    "\n",
    "rmse = mean_squared_error(y_test, y_predicted) # This is the mean squared error\n",
    "r2 = r2_score(y_test, y_predicted) # This is the R2 score. "
   ]
  },
  {
   "cell_type": "code",
   "execution_count": 30,
   "id": "8d8e97c4-3468-4360-90c4-961f381cf3eb",
   "metadata": {},
   "outputs": [
    {
     "name": "stdout",
     "output_type": "stream",
     "text": [
      "Slope: [[0.55337922]]\n",
      "Mean squared error:  4047.6691882130885\n",
      "R2 score:  0.6299130176176677\n"
     ]
    }
   ],
   "source": [
    "# Print the model summary statistics. This is where you evaluate the performance of the model.\n",
    "\n",
    "print('Slope:' ,regression.coef_)\n",
    "print('Mean squared error: ', rmse)\n",
    "print('R2 score: ', r2)"
   ]
  },
  {
   "cell_type": "markdown",
   "id": "2266d075-6227-4fd1-b539-0dd6857656eb",
   "metadata": {},
   "source": [
    "INTERPRETATION OF RESULTS:\n",
    "The slope of 0.55 signifys a positive correlation. If X rises, y rises as well. Here it means, the more valid votes, the more yes votes.\n",
    "\n",
    "The Mean squared error of 4047.67 seams to me large, but I dont understand exactley what unit of measurement it is. Is it 'yes votes'? and what means large? in relation to what? Here I find the explanation in the exercise not very satisfying. I would be greatful for an explanation!\n",
    "\n",
    "R2 score of 0.63 - it is closer to 1 than to 0 so it is a sort of positive outcome, but again I find it difficult to interprete. What is high? What is low?\n",
    "\n"
   ]
  },
  {
   "cell_type": "code",
   "execution_count": 31,
   "id": "48ff0933-fb23-4ab3-961f-1a3c09e06fd8",
   "metadata": {},
   "outputs": [
    {
     "data": {
      "text/plain": [
       "array([[237.8545535 ],\n",
       "       [283.23164947],\n",
       "       [215.71938473],\n",
       "       ...,\n",
       "       [216.27276395],\n",
       "       [324.73509091],\n",
       "       [216.27276395]])"
      ]
     },
     "execution_count": 31,
     "metadata": {},
     "output_type": "execute_result"
    }
   ],
   "source": [
    "y_predicted"
   ]
  },
  {
   "cell_type": "code",
   "execution_count": 32,
   "id": "880a03ab-84e0-4005-9c4b-d5ecbbaf5d33",
   "metadata": {
    "scrolled": true
   },
   "outputs": [
    {
     "data": {
      "text/html": [
       "<div>\n",
       "<style scoped>\n",
       "    .dataframe tbody tr th:only-of-type {\n",
       "        vertical-align: middle;\n",
       "    }\n",
       "\n",
       "    .dataframe tbody tr th {\n",
       "        vertical-align: top;\n",
       "    }\n",
       "\n",
       "    .dataframe thead th {\n",
       "        text-align: right;\n",
       "    }\n",
       "</style>\n",
       "<table border=\"1\" class=\"dataframe\">\n",
       "  <thead>\n",
       "    <tr style=\"text-align: right;\">\n",
       "      <th></th>\n",
       "      <th>Actual</th>\n",
       "      <th>Predicted</th>\n",
       "    </tr>\n",
       "  </thead>\n",
       "  <tbody>\n",
       "    <tr>\n",
       "      <th>0</th>\n",
       "      <td>242</td>\n",
       "      <td>237.854553</td>\n",
       "    </tr>\n",
       "    <tr>\n",
       "      <th>1</th>\n",
       "      <td>263</td>\n",
       "      <td>283.231649</td>\n",
       "    </tr>\n",
       "    <tr>\n",
       "      <th>2</th>\n",
       "      <td>121</td>\n",
       "      <td>215.719385</td>\n",
       "    </tr>\n",
       "    <tr>\n",
       "      <th>3</th>\n",
       "      <td>277</td>\n",
       "      <td>338.016192</td>\n",
       "    </tr>\n",
       "    <tr>\n",
       "      <th>4</th>\n",
       "      <td>230</td>\n",
       "      <td>215.719385</td>\n",
       "    </tr>\n",
       "    <tr>\n",
       "      <th>5</th>\n",
       "      <td>238</td>\n",
       "      <td>222.913315</td>\n",
       "    </tr>\n",
       "    <tr>\n",
       "      <th>6</th>\n",
       "      <td>249</td>\n",
       "      <td>239.514691</td>\n",
       "    </tr>\n",
       "    <tr>\n",
       "      <th>7</th>\n",
       "      <td>780</td>\n",
       "      <td>635.180833</td>\n",
       "    </tr>\n",
       "    <tr>\n",
       "      <th>8</th>\n",
       "      <td>213</td>\n",
       "      <td>186.943665</td>\n",
       "    </tr>\n",
       "    <tr>\n",
       "      <th>9</th>\n",
       "      <td>165</td>\n",
       "      <td>215.166006</td>\n",
       "    </tr>\n",
       "    <tr>\n",
       "      <th>10</th>\n",
       "      <td>291</td>\n",
       "      <td>226.786969</td>\n",
       "    </tr>\n",
       "    <tr>\n",
       "      <th>11</th>\n",
       "      <td>182</td>\n",
       "      <td>307.026956</td>\n",
       "    </tr>\n",
       "    <tr>\n",
       "      <th>12</th>\n",
       "      <td>276</td>\n",
       "      <td>252.242413</td>\n",
       "    </tr>\n",
       "    <tr>\n",
       "      <th>13</th>\n",
       "      <td>328</td>\n",
       "      <td>231.214003</td>\n",
       "    </tr>\n",
       "    <tr>\n",
       "      <th>14</th>\n",
       "      <td>298</td>\n",
       "      <td>224.020073</td>\n",
       "    </tr>\n",
       "    <tr>\n",
       "      <th>15</th>\n",
       "      <td>642</td>\n",
       "      <td>620.792973</td>\n",
       "    </tr>\n",
       "    <tr>\n",
       "      <th>16</th>\n",
       "      <td>283</td>\n",
       "      <td>320.308057</td>\n",
       "    </tr>\n",
       "    <tr>\n",
       "      <th>17</th>\n",
       "      <td>322</td>\n",
       "      <td>325.288470</td>\n",
       "    </tr>\n",
       "    <tr>\n",
       "      <th>18</th>\n",
       "      <td>354</td>\n",
       "      <td>334.695917</td>\n",
       "    </tr>\n",
       "    <tr>\n",
       "      <th>19</th>\n",
       "      <td>160</td>\n",
       "      <td>195.244354</td>\n",
       "    </tr>\n",
       "    <tr>\n",
       "      <th>20</th>\n",
       "      <td>207</td>\n",
       "      <td>199.671387</td>\n",
       "    </tr>\n",
       "    <tr>\n",
       "      <th>21</th>\n",
       "      <td>318</td>\n",
       "      <td>279.911374</td>\n",
       "    </tr>\n",
       "    <tr>\n",
       "      <th>22</th>\n",
       "      <td>325</td>\n",
       "      <td>239.514691</td>\n",
       "    </tr>\n",
       "    <tr>\n",
       "      <th>23</th>\n",
       "      <td>176</td>\n",
       "      <td>367.345291</td>\n",
       "    </tr>\n",
       "    <tr>\n",
       "      <th>24</th>\n",
       "      <td>252</td>\n",
       "      <td>264.970135</td>\n",
       "    </tr>\n",
       "    <tr>\n",
       "      <th>25</th>\n",
       "      <td>203</td>\n",
       "      <td>174.769323</td>\n",
       "    </tr>\n",
       "    <tr>\n",
       "      <th>26</th>\n",
       "      <td>319</td>\n",
       "      <td>285.998546</td>\n",
       "    </tr>\n",
       "    <tr>\n",
       "      <th>27</th>\n",
       "      <td>167</td>\n",
       "      <td>255.009309</td>\n",
       "    </tr>\n",
       "    <tr>\n",
       "      <th>28</th>\n",
       "      <td>532</td>\n",
       "      <td>413.829145</td>\n",
       "    </tr>\n",
       "    <tr>\n",
       "      <th>29</th>\n",
       "      <td>186</td>\n",
       "      <td>221.806556</td>\n",
       "    </tr>\n",
       "  </tbody>\n",
       "</table>\n",
       "</div>"
      ],
      "text/plain": [
       "    Actual   Predicted\n",
       "0      242  237.854553\n",
       "1      263  283.231649\n",
       "2      121  215.719385\n",
       "3      277  338.016192\n",
       "4      230  215.719385\n",
       "5      238  222.913315\n",
       "6      249  239.514691\n",
       "7      780  635.180833\n",
       "8      213  186.943665\n",
       "9      165  215.166006\n",
       "10     291  226.786969\n",
       "11     182  307.026956\n",
       "12     276  252.242413\n",
       "13     328  231.214003\n",
       "14     298  224.020073\n",
       "15     642  620.792973\n",
       "16     283  320.308057\n",
       "17     322  325.288470\n",
       "18     354  334.695917\n",
       "19     160  195.244354\n",
       "20     207  199.671387\n",
       "21     318  279.911374\n",
       "22     325  239.514691\n",
       "23     176  367.345291\n",
       "24     252  264.970135\n",
       "25     203  174.769323\n",
       "26     319  285.998546\n",
       "27     167  255.009309\n",
       "28     532  413.829145\n",
       "29     186  221.806556"
      ]
     },
     "execution_count": 32,
     "metadata": {},
     "output_type": "execute_result"
    }
   ],
   "source": [
    "# Create a dataframe comparing the actual and predicted values of y.\n",
    "\n",
    "data = pd.DataFrame({'Actual': y_test.flatten(), 'Predicted': y_predicted.flatten()})\n",
    "data.head(30)"
   ]
  },
  {
   "cell_type": "markdown",
   "id": "eac0a592-7365-4b47-aad0-d9f1e7a28a55",
   "metadata": {},
   "source": [
    "INTERPRETAION:\n",
    "\n",
    "there are significant deviations between the actual an the predicted values.\n",
    "So it seems, that the model is not fitting to well."
   ]
  },
  {
   "cell_type": "markdown",
   "id": "f062a77e-aff5-441a-b3f9-35637dfe4c00",
   "metadata": {},
   "source": [
    "# Compare how the model fits the training set"
   ]
  },
  {
   "cell_type": "code",
   "execution_count": 33,
   "id": "19eedb6a-9d22-4b58-b0da-56f61b3f1896",
   "metadata": {},
   "outputs": [],
   "source": [
    "# Predict.\n",
    "\n",
    "y_predicted_train = regression.predict(X_train) # This is predicting X_train!"
   ]
  },
  {
   "cell_type": "code",
   "execution_count": 34,
   "id": "cba96943-4648-4e8f-bc71-8b9765a924f5",
   "metadata": {},
   "outputs": [],
   "source": [
    "rmse = mean_squared_error(y_train, y_predicted_train)\n",
    "r2 = r2_score(y_train, y_predicted_train)"
   ]
  },
  {
   "cell_type": "code",
   "execution_count": 35,
   "id": "abf06ca2-30a7-4850-9697-9e6e7f82576c",
   "metadata": {},
   "outputs": [
    {
     "name": "stdout",
     "output_type": "stream",
     "text": [
      "Slope: [[0.55337922]]\n",
      "Mean squared error:  3985.3455127291495\n",
      "R2 score:  0.6194284821417534\n"
     ]
    }
   ],
   "source": [
    "print('Slope:' ,regression.coef_)\n",
    "print('Mean squared error: ', rmse)\n",
    "print('R2 score: ', r2)"
   ]
  },
  {
   "cell_type": "code",
   "execution_count": 36,
   "id": "4b2b3a3f-b8b3-40f5-8d32-c5494d2f8663",
   "metadata": {},
   "outputs": [
    {
     "data": {
      "image/png": "[encoded data removed]",
      "text/plain": [
       "<Figure size 640x480 with 1 Axes>"
      ]
     },
     "metadata": {},
     "output_type": "display_data"
    }
   ],
   "source": [
    "# Visualizing the training set results.\n",
    "\n",
    "plot_test = plt\n",
    "plot_test.scatter(X_train, y_train, color='green', s = 15)\n",
    "plot_test.plot(X_train, y_predicted_train, color='red', linewidth =3)\n",
    "plot_test.title('Valid Votes vs Yes Votes (Train set)')\n",
    "plot_test.xlabel('Valid Votes')\n",
    "plot_test.ylabel('Yes Votes')\n",
    "plot_test.show()"
   ]
  },
  {
   "cell_type": "markdown",
   "id": "5ab1303f-3dd9-4269-abd5-871e4a50d244",
   "metadata": {},
   "source": [
    "Interpretation: \n",
    "the test set and the training set have very similar outcome (R2 sore of 0,62 against 0,63)"
   ]
  },
  {
   "cell_type": "markdown",
   "id": "14206432-22fd-4304-9ac3-be93ce7cba4d",
   "metadata": {},
   "source": [
    "# REMARKS and INTERPRETATION"
   ]
  },
  {
   "cell_type": "markdown",
   "id": "a42460b5-dc36-4e18-96f2-0abfe7d3d785",
   "metadata": {},
   "source": [
    "What is obvious is, that there is a positive corrlation between the numbers of valid votes and the number of yes votes.\n",
    "But on the same time it is not specific. Since the No votes increase in the same way. \n",
    "I would guess that the unclear results of the regression analysis have something to do with that: the ratio of yes and no keep more ore less the same, no matter if the valid votes increase or not. (Which means no matter if there are more or less voters in one voting district.)\n",
    "\n",
    "I think that for my data set the regerssion analysis is not very informative, it does not fit so well for the information or the inherent character of my continous varibales (Small or big voting districts is not relevant in terms of the result)\n",
    "Other factors are much more intersting. The geographical componant for example. But this is not represented in a continous variable which is necessary for the regression analysis. (but instead in a categorical variable, such as West or East, or in the concrete geographical information)"
   ]
  },
  {
   "cell_type": "code",
   "execution_count": null,
   "id": "18f9ee40-4e89-42c4-af62-f020f7d78b1c",
   "metadata": {},
   "outputs": [],
   "source": []
  }
 ],
 "metadata": {
  "kernelspec": {
   "display_name": "Python [conda env:base] *",
   "language": "python",
   "name": "conda-base-py"
  },
  "language_info": {
   "codemirror_mode": {
    "name": "ipython",
    "version": 3
   },
   "file_extension": ".py",
   "mimetype": "text/x-python",
   "name": "python",
   "nbconvert_exporter": "python",
   "pygments_lexer": "ipython3",
   "version": "3.12.7"
  }
 },
 "nbformat": 4,
 "nbformat_minor": 5
}
